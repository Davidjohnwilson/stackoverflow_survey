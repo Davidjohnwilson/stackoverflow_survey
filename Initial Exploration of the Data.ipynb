{
 "cells": [
  {
   "cell_type": "code",
   "execution_count": 1,
   "metadata": {
    "collapsed": false
   },
   "outputs": [],
   "source": [
    "%matplotlib inline\n",
    "\n",
    "import numpy as np\n",
    "import pandas as pd\n",
    "import matplotlib.pyplot as plt"
   ]
  },
  {
   "cell_type": "code",
   "execution_count": 2,
   "metadata": {
    "collapsed": false
   },
   "outputs": [],
   "source": [
    "df = pd.read_csv('./data/2016 Stack Overflow Survey Results/2016 Stack Overflow Survey Responses.csv')"
   ]
  },
  {
   "cell_type": "code",
   "execution_count": 3,
   "metadata": {
    "collapsed": false
   },
   "outputs": [
    {
     "data": {
      "text/html": [
       "<div>\n",
       "<table border=\"1\" class=\"dataframe\">\n",
       "  <thead>\n",
       "    <tr style=\"text-align: right;\">\n",
       "      <th></th>\n",
       "      <th>Unnamed: 0</th>\n",
       "      <th>collector</th>\n",
       "      <th>country</th>\n",
       "      <th>un_subregion</th>\n",
       "      <th>so_region</th>\n",
       "      <th>age_range</th>\n",
       "      <th>age_midpoint</th>\n",
       "      <th>gender</th>\n",
       "      <th>self_identification</th>\n",
       "      <th>occupation</th>\n",
       "      <th>...</th>\n",
       "      <th>important_sameend</th>\n",
       "      <th>important_newtech</th>\n",
       "      <th>important_buildnew</th>\n",
       "      <th>important_buildexisting</th>\n",
       "      <th>important_promotion</th>\n",
       "      <th>important_companymission</th>\n",
       "      <th>important_wfh</th>\n",
       "      <th>important_ownoffice</th>\n",
       "      <th>developer_challenges</th>\n",
       "      <th>why_stack_overflow</th>\n",
       "    </tr>\n",
       "  </thead>\n",
       "  <tbody>\n",
       "    <tr>\n",
       "      <th>0</th>\n",
       "      <td>1888</td>\n",
       "      <td>Facebook</td>\n",
       "      <td>Afghanistan</td>\n",
       "      <td>Southern Asia</td>\n",
       "      <td>Central Asia</td>\n",
       "      <td>20-24</td>\n",
       "      <td>22.0</td>\n",
       "      <td>Male</td>\n",
       "      <td>Programmer</td>\n",
       "      <td>NaN</td>\n",
       "      <td>...</td>\n",
       "      <td>NaN</td>\n",
       "      <td>NaN</td>\n",
       "      <td>NaN</td>\n",
       "      <td>NaN</td>\n",
       "      <td>NaN</td>\n",
       "      <td>NaN</td>\n",
       "      <td>NaN</td>\n",
       "      <td>NaN</td>\n",
       "      <td>NaN</td>\n",
       "      <td>NaN</td>\n",
       "    </tr>\n",
       "    <tr>\n",
       "      <th>1</th>\n",
       "      <td>4637</td>\n",
       "      <td>Facebook</td>\n",
       "      <td>Afghanistan</td>\n",
       "      <td>Southern Asia</td>\n",
       "      <td>Central Asia</td>\n",
       "      <td>30-34</td>\n",
       "      <td>32.0</td>\n",
       "      <td>Male</td>\n",
       "      <td>Developer; Engineer; Programmer</td>\n",
       "      <td>Mobile developer - iOS</td>\n",
       "      <td>...</td>\n",
       "      <td>This is somewhat important</td>\n",
       "      <td>This is very important</td>\n",
       "      <td>This is very important</td>\n",
       "      <td>I don't care about this</td>\n",
       "      <td>This is somewhat important</td>\n",
       "      <td>This is somewhat important</td>\n",
       "      <td>I don't care about this</td>\n",
       "      <td>I don't care about this</td>\n",
       "      <td>Unrealistic expectations; Interacting with non...</td>\n",
       "      <td>To get help for my job; Because I can't do my ...</td>\n",
       "    </tr>\n",
       "    <tr>\n",
       "      <th>2</th>\n",
       "      <td>11164</td>\n",
       "      <td>Facebook</td>\n",
       "      <td>Afghanistan</td>\n",
       "      <td>Southern Asia</td>\n",
       "      <td>Central Asia</td>\n",
       "      <td>NaN</td>\n",
       "      <td>NaN</td>\n",
       "      <td>NaN</td>\n",
       "      <td>NaN</td>\n",
       "      <td>NaN</td>\n",
       "      <td>...</td>\n",
       "      <td>NaN</td>\n",
       "      <td>NaN</td>\n",
       "      <td>NaN</td>\n",
       "      <td>NaN</td>\n",
       "      <td>NaN</td>\n",
       "      <td>NaN</td>\n",
       "      <td>NaN</td>\n",
       "      <td>NaN</td>\n",
       "      <td>NaN</td>\n",
       "      <td>NaN</td>\n",
       "    </tr>\n",
       "    <tr>\n",
       "      <th>3</th>\n",
       "      <td>21378</td>\n",
       "      <td>Facebook</td>\n",
       "      <td>Afghanistan</td>\n",
       "      <td>Southern Asia</td>\n",
       "      <td>Central Asia</td>\n",
       "      <td>NaN</td>\n",
       "      <td>NaN</td>\n",
       "      <td>Female</td>\n",
       "      <td>Engineer</td>\n",
       "      <td>DevOps</td>\n",
       "      <td>...</td>\n",
       "      <td>I don't care about this</td>\n",
       "      <td>This is somewhat important</td>\n",
       "      <td>This is very important</td>\n",
       "      <td>This is very important</td>\n",
       "      <td>I don't care about this</td>\n",
       "      <td>I don't care about this</td>\n",
       "      <td>This is very important</td>\n",
       "      <td>This is somewhat important</td>\n",
       "      <td>Corporate policies; Interacting with non-techn...</td>\n",
       "      <td>To get help for my job; Beacause I love to learn</td>\n",
       "    </tr>\n",
       "    <tr>\n",
       "      <th>4</th>\n",
       "      <td>30280</td>\n",
       "      <td>Facebook</td>\n",
       "      <td>Afghanistan</td>\n",
       "      <td>Southern Asia</td>\n",
       "      <td>Central Asia</td>\n",
       "      <td>&gt; 60</td>\n",
       "      <td>65.0</td>\n",
       "      <td>Prefer not to disclose</td>\n",
       "      <td>Developer; Engineer; Programmer; Sr. Developer...</td>\n",
       "      <td>NaN</td>\n",
       "      <td>...</td>\n",
       "      <td>NaN</td>\n",
       "      <td>NaN</td>\n",
       "      <td>NaN</td>\n",
       "      <td>NaN</td>\n",
       "      <td>NaN</td>\n",
       "      <td>NaN</td>\n",
       "      <td>NaN</td>\n",
       "      <td>NaN</td>\n",
       "      <td>NaN</td>\n",
       "      <td>NaN</td>\n",
       "    </tr>\n",
       "  </tbody>\n",
       "</table>\n",
       "<p>5 rows × 66 columns</p>\n",
       "</div>"
      ],
      "text/plain": [
       "   Unnamed: 0 collector      country   un_subregion     so_region age_range  \\\n",
       "0        1888  Facebook  Afghanistan  Southern Asia  Central Asia     20-24   \n",
       "1        4637  Facebook  Afghanistan  Southern Asia  Central Asia     30-34   \n",
       "2       11164  Facebook  Afghanistan  Southern Asia  Central Asia       NaN   \n",
       "3       21378  Facebook  Afghanistan  Southern Asia  Central Asia       NaN   \n",
       "4       30280  Facebook  Afghanistan  Southern Asia  Central Asia      > 60   \n",
       "\n",
       "   age_midpoint                  gender  \\\n",
       "0          22.0                    Male   \n",
       "1          32.0                    Male   \n",
       "2           NaN                     NaN   \n",
       "3           NaN                  Female   \n",
       "4          65.0  Prefer not to disclose   \n",
       "\n",
       "                                 self_identification              occupation  \\\n",
       "0                                         Programmer                     NaN   \n",
       "1                    Developer; Engineer; Programmer  Mobile developer - iOS   \n",
       "2                                                NaN                     NaN   \n",
       "3                                           Engineer                  DevOps   \n",
       "4  Developer; Engineer; Programmer; Sr. Developer...                     NaN   \n",
       "\n",
       "                         ...                          \\\n",
       "0                        ...                           \n",
       "1                        ...                           \n",
       "2                        ...                           \n",
       "3                        ...                           \n",
       "4                        ...                           \n",
       "\n",
       "            important_sameend           important_newtech  \\\n",
       "0                         NaN                         NaN   \n",
       "1  This is somewhat important      This is very important   \n",
       "2                         NaN                         NaN   \n",
       "3     I don't care about this  This is somewhat important   \n",
       "4                         NaN                         NaN   \n",
       "\n",
       "       important_buildnew  important_buildexisting  \\\n",
       "0                     NaN                      NaN   \n",
       "1  This is very important  I don't care about this   \n",
       "2                     NaN                      NaN   \n",
       "3  This is very important   This is very important   \n",
       "4                     NaN                      NaN   \n",
       "\n",
       "          important_promotion    important_companymission  \\\n",
       "0                         NaN                         NaN   \n",
       "1  This is somewhat important  This is somewhat important   \n",
       "2                         NaN                         NaN   \n",
       "3     I don't care about this     I don't care about this   \n",
       "4                         NaN                         NaN   \n",
       "\n",
       "             important_wfh         important_ownoffice  \\\n",
       "0                      NaN                         NaN   \n",
       "1  I don't care about this     I don't care about this   \n",
       "2                      NaN                         NaN   \n",
       "3   This is very important  This is somewhat important   \n",
       "4                      NaN                         NaN   \n",
       "\n",
       "                                developer_challenges  \\\n",
       "0                                                NaN   \n",
       "1  Unrealistic expectations; Interacting with non...   \n",
       "2                                                NaN   \n",
       "3  Corporate policies; Interacting with non-techn...   \n",
       "4                                                NaN   \n",
       "\n",
       "                                  why_stack_overflow  \n",
       "0                                                NaN  \n",
       "1  To get help for my job; Because I can't do my ...  \n",
       "2                                                NaN  \n",
       "3   To get help for my job; Beacause I love to learn  \n",
       "4                                                NaN  \n",
       "\n",
       "[5 rows x 66 columns]"
      ]
     },
     "execution_count": 3,
     "metadata": {},
     "output_type": "execute_result"
    }
   ],
   "source": [
    "df.head()"
   ]
  },
  {
   "cell_type": "code",
   "execution_count": 4,
   "metadata": {
    "collapsed": false
   },
   "outputs": [
    {
     "name": "stderr",
     "output_type": "stream",
     "text": [
      "/Users/davidwilson/anaconda/lib/python3.5/site-packages/numpy/lib/function_base.py:3834: RuntimeWarning: Invalid value encountered in percentile\n",
      "  RuntimeWarning)\n"
     ]
    },
    {
     "data": {
      "text/html": [
       "<div>\n",
       "<table border=\"1\" class=\"dataframe\">\n",
       "  <thead>\n",
       "    <tr style=\"text-align: right;\">\n",
       "      <th></th>\n",
       "      <th>Unnamed: 0</th>\n",
       "      <th>age_midpoint</th>\n",
       "      <th>experience_midpoint</th>\n",
       "      <th>salary_midpoint</th>\n",
       "      <th>big_mac_index</th>\n",
       "      <th>programming_ability</th>\n",
       "    </tr>\n",
       "  </thead>\n",
       "  <tbody>\n",
       "    <tr>\n",
       "      <th>count</th>\n",
       "      <td>56030.000000</td>\n",
       "      <td>55336.000000</td>\n",
       "      <td>49520.000000</td>\n",
       "      <td>41742.000000</td>\n",
       "      <td>48825.000000</td>\n",
       "      <td>46982.000000</td>\n",
       "    </tr>\n",
       "    <tr>\n",
       "      <th>mean</th>\n",
       "      <td>28014.500000</td>\n",
       "      <td>29.621286</td>\n",
       "      <td>6.640145</td>\n",
       "      <td>53952.973025</td>\n",
       "      <td>3.907442</td>\n",
       "      <td>7.094547</td>\n",
       "    </tr>\n",
       "    <tr>\n",
       "      <th>std</th>\n",
       "      <td>16174.612128</td>\n",
       "      <td>9.108102</td>\n",
       "      <td>4.446157</td>\n",
       "      <td>46518.823875</td>\n",
       "      <td>1.120232</td>\n",
       "      <td>1.766312</td>\n",
       "    </tr>\n",
       "    <tr>\n",
       "      <th>min</th>\n",
       "      <td>0.000000</td>\n",
       "      <td>16.000000</td>\n",
       "      <td>0.500000</td>\n",
       "      <td>5000.000000</td>\n",
       "      <td>1.530000</td>\n",
       "      <td>1.000000</td>\n",
       "    </tr>\n",
       "    <tr>\n",
       "      <th>25%</th>\n",
       "      <td>14007.250000</td>\n",
       "      <td>NaN</td>\n",
       "      <td>NaN</td>\n",
       "      <td>NaN</td>\n",
       "      <td>NaN</td>\n",
       "      <td>NaN</td>\n",
       "    </tr>\n",
       "    <tr>\n",
       "      <th>50%</th>\n",
       "      <td>28014.500000</td>\n",
       "      <td>NaN</td>\n",
       "      <td>NaN</td>\n",
       "      <td>NaN</td>\n",
       "      <td>NaN</td>\n",
       "      <td>NaN</td>\n",
       "    </tr>\n",
       "    <tr>\n",
       "      <th>75%</th>\n",
       "      <td>42021.750000</td>\n",
       "      <td>NaN</td>\n",
       "      <td>NaN</td>\n",
       "      <td>NaN</td>\n",
       "      <td>NaN</td>\n",
       "      <td>NaN</td>\n",
       "    </tr>\n",
       "    <tr>\n",
       "      <th>max</th>\n",
       "      <td>56029.000000</td>\n",
       "      <td>65.000000</td>\n",
       "      <td>13.000000</td>\n",
       "      <td>210000.000000</td>\n",
       "      <td>6.440000</td>\n",
       "      <td>10.000000</td>\n",
       "    </tr>\n",
       "  </tbody>\n",
       "</table>\n",
       "</div>"
      ],
      "text/plain": [
       "         Unnamed: 0  age_midpoint  experience_midpoint  salary_midpoint  \\\n",
       "count  56030.000000  55336.000000         49520.000000     41742.000000   \n",
       "mean   28014.500000     29.621286             6.640145     53952.973025   \n",
       "std    16174.612128      9.108102             4.446157     46518.823875   \n",
       "min        0.000000     16.000000             0.500000      5000.000000   \n",
       "25%    14007.250000           NaN                  NaN              NaN   \n",
       "50%    28014.500000           NaN                  NaN              NaN   \n",
       "75%    42021.750000           NaN                  NaN              NaN   \n",
       "max    56029.000000     65.000000            13.000000    210000.000000   \n",
       "\n",
       "       big_mac_index  programming_ability  \n",
       "count   48825.000000         46982.000000  \n",
       "mean        3.907442             7.094547  \n",
       "std         1.120232             1.766312  \n",
       "min         1.530000             1.000000  \n",
       "25%              NaN                  NaN  \n",
       "50%              NaN                  NaN  \n",
       "75%              NaN                  NaN  \n",
       "max         6.440000            10.000000  "
      ]
     },
     "execution_count": 4,
     "metadata": {},
     "output_type": "execute_result"
    }
   ],
   "source": [
    "df.describe()"
   ]
  },
  {
   "cell_type": "code",
   "execution_count": 5,
   "metadata": {
    "collapsed": false
   },
   "outputs": [
    {
     "data": {
      "text/plain": [
       "<matplotlib.axes._subplots.AxesSubplot at 0x117826358>"
      ]
     },
     "execution_count": 5,
     "metadata": {},
     "output_type": "execute_result"
    },
    {
     "data": {
      "image/png": "[encoded data removed]",
      "text/plain": [
       "<matplotlib.figure.Figure at 0x11679b7f0>"
      ]
     },
     "metadata": {},
     "output_type": "display_data"
    }
   ],
   "source": [
    "df.plot(x='age_midpoint',y='salary_midpoint',kind='scatter')"
   ]
  },
  {
   "cell_type": "code",
   "execution_count": 6,
   "metadata": {
    "collapsed": true
   },
   "outputs": [],
   "source": [
    "df[\"age_category\"] = df[\"age_range\"].astype(\"category\")"
   ]
  },
  {
   "cell_type": "code",
   "execution_count": 7,
   "metadata": {
    "collapsed": false
   },
   "outputs": [
    {
     "data": {
      "text/plain": [
       "count     55727\n",
       "unique        9\n",
       "top       25-29\n",
       "freq      15702\n",
       "Name: age_category, dtype: object"
      ]
     },
     "execution_count": 7,
     "metadata": {},
     "output_type": "execute_result"
    }
   ],
   "source": [
    "df[\"age_category\"].describe()"
   ]
  },
  {
   "cell_type": "code",
   "execution_count": null,
   "metadata": {
    "collapsed": false
   },
   "outputs": [],
   "source": []
  },
  {
   "cell_type": "code",
   "execution_count": 10,
   "metadata": {
    "collapsed": false
   },
   "outputs": [
    {
     "data": {
      "text/plain": [
       "age_category\n",
       "20-24                     13055\n",
       "25-29                     15702\n",
       "30-34                     10018\n",
       "35-39                      5657\n",
       "40-49                      4905\n",
       "50-59                      1640\n",
       "< 20                       3937\n",
       "> 60                        422\n",
       "Prefer not to disclose      391\n",
       "dtype: int64"
      ]
     },
     "execution_count": 10,
     "metadata": {},
     "output_type": "execute_result"
    }
   ],
   "source": [
    "df.groupby(\"age_category\").size()"
   ]
  },
  {
   "cell_type": "code",
   "execution_count": 14,
   "metadata": {
    "collapsed": false
   },
   "outputs": [],
   "source": [
    "df[\"age_category\"] = df[\"age_category\"].cat.set_categories([ '< 20', '20-24', '25-29', '30-34', '35-39', '40-49', '50-59', '> 60','Prefer not to disclose'])"
   ]
  },
  {
   "cell_type": "code",
   "execution_count": 16,
   "metadata": {
    "collapsed": false
   },
   "outputs": [
    {
     "data": {
      "text/plain": [
       "age_category\n",
       "< 20                       3937\n",
       "20-24                     13055\n",
       "25-29                     15702\n",
       "30-34                     10018\n",
       "35-39                      5657\n",
       "40-49                      4905\n",
       "50-59                      1640\n",
       "> 60                        422\n",
       "Prefer not to disclose      391\n",
       "dtype: int64"
      ]
     },
     "execution_count": 16,
     "metadata": {},
     "output_type": "execute_result"
    }
   ],
   "source": [
    "df.groupby(\"age_category\").size()"
   ]
  },
  {
   "cell_type": "code",
   "execution_count": 17,
   "metadata": {
    "collapsed": false
   },
   "outputs": [
    {
     "data": {
      "text/plain": [
       "<matplotlib.axes._subplots.AxesSubplot at 0x1095b1e80>"
      ]
     },
     "execution_count": 17,
     "metadata": {},
     "output_type": "execute_result"
    },
    {
     "data": {
      "image/png": "[encoded data removed]",
      "text/plain": [
       "<matplotlib.figure.Figure at 0x113526d30>"
      ]
     },
     "metadata": {},
     "output_type": "display_data"
    }
   ],
   "source": [
    "df.groupby(\"age_category\").size().plot()"
   ]
  },
  {
   "cell_type": "code",
   "execution_count": 18,
   "metadata": {
    "collapsed": false
   },
   "outputs": [
    {
     "data": {
      "text/plain": [
       "count                 46121\n",
       "unique                   24\n",
       "top       Less than $10,000\n",
       "freq                   7686\n",
       "Name: salary_range, dtype: object"
      ]
     },
     "execution_count": 18,
     "metadata": {},
     "output_type": "execute_result"
    }
   ],
   "source": [
    "df[\"salary_range\"].describe()"
   ]
  },
  {
   "cell_type": "code",
   "execution_count": 19,
   "metadata": {
    "collapsed": true
   },
   "outputs": [],
   "source": [
    "df[\"salary_category\"] = df[\"salary_range\"].astype('category')"
   ]
  },
  {
   "cell_type": "code",
   "execution_count": 20,
   "metadata": {
    "collapsed": false
   },
   "outputs": [
    {
     "data": {
      "text/plain": [
       "count                 46121\n",
       "unique                   24\n",
       "top       Less than $10,000\n",
       "freq                   7686\n",
       "Name: salary_category, dtype: object"
      ]
     },
     "execution_count": 20,
     "metadata": {},
     "output_type": "execute_result"
    }
   ],
   "source": [
    "df[\"salary_category\"].describe()"
   ]
  },
  {
   "cell_type": "code",
   "execution_count": 22,
   "metadata": {
    "collapsed": false
   },
   "outputs": [
    {
     "data": {
      "text/plain": [
       "salary_category\n",
       "$10,000 - $20,000         4977\n",
       "$100,000 - $110,000       1653\n",
       "$110,000 - $120,000       1086\n",
       "$120,000 - $130,000        917\n",
       "$130,000 - $140,000        608\n",
       "$140,000 - $150,000        569\n",
       "$150,000 - $160,000        472\n",
       "$160,000 - $170,000        278\n",
       "$170,000 - $180,000        206\n",
       "$180,000 - $190,000        136\n",
       "$190,000 - $200,000        117\n",
       "$20,000 - $30,000         3677\n",
       "$30,000 - $40,000         3429\n",
       "$40,000 - $50,000         3291\n",
       "$50,000 - $60,000         3138\n",
       "$60,000 - $70,000         2823\n",
       "$70,000 - $80,000         2500\n",
       "$80,000 - $90,000         1834\n",
       "$90,000 - $100,000        1684\n",
       "Less than $10,000         7686\n",
       "More than $200,000         661\n",
       "Other (please specify)     253\n",
       "Rather not say            2246\n",
       "Unemployed                1880\n",
       "dtype: int64"
      ]
     },
     "execution_count": 22,
     "metadata": {},
     "output_type": "execute_result"
    }
   ],
   "source": [
    "df.groupby(\"salary_category\").size()"
   ]
  },
  {
   "cell_type": "code",
   "execution_count": 25,
   "metadata": {
    "collapsed": false
   },
   "outputs": [],
   "source": [
    "df[\"salary_category\"] = df[\"salary_category\"].cat.set_categories([ 'Unemployed','Less than $10,000','$10,000 - $20,000', '$20,000 - $30,000','$30,000 - $40,000', '$40,000 - $50,000', '$50,000 - $60,000',\n",
    "       '$60,000 - $70,000', '$70,000 - $80,000', '$80,000 - $90,000',\n",
    "       '$90,000 - $100,000', '$100,000 - $110,000', '$110,000 - $120,000',\n",
    "       '$120,000 - $130,000', '$130,000 - $140,000', '$140,000 - $150,000',\n",
    "       '$150,000 - $160,000', '$160,000 - $170,000', '$170,000 - $180,000',\n",
    "       '$180,000 - $190,000', '$190,000 - $200,000', \n",
    "         'More than $200,000',\n",
    "       'Other (please specify)', 'Rather not say'])"
   ]
  },
  {
   "cell_type": "code",
   "execution_count": 26,
   "metadata": {
    "collapsed": false
   },
   "outputs": [
    {
     "data": {
      "text/plain": [
       "salary_category\n",
       "Unemployed                1880\n",
       "Less than $10,000         7686\n",
       "$10,000 - $20,000         4977\n",
       "$20,000 - $30,000         3677\n",
       "$30,000 - $40,000         3429\n",
       "$40,000 - $50,000         3291\n",
       "$50,000 - $60,000         3138\n",
       "$60,000 - $70,000         2823\n",
       "$70,000 - $80,000         2500\n",
       "$80,000 - $90,000         1834\n",
       "$90,000 - $100,000        1684\n",
       "$100,000 - $110,000       1653\n",
       "$110,000 - $120,000       1086\n",
       "$120,000 - $130,000        917\n",
       "$130,000 - $140,000        608\n",
       "$140,000 - $150,000        569\n",
       "$150,000 - $160,000        472\n",
       "$160,000 - $170,000        278\n",
       "$170,000 - $180,000        206\n",
       "$180,000 - $190,000        136\n",
       "$190,000 - $200,000        117\n",
       "More than $200,000         661\n",
       "Other (please specify)     253\n",
       "Rather not say            2246\n",
       "dtype: int64"
      ]
     },
     "execution_count": 26,
     "metadata": {},
     "output_type": "execute_result"
    }
   ],
   "source": [
    "df.groupby(\"salary_category\").size()"
   ]
  },
  {
   "cell_type": "code",
   "execution_count": 28,
   "metadata": {
    "collapsed": false
   },
   "outputs": [
    {
     "data": {
      "text/plain": [
       "<matplotlib.axes._subplots.AxesSubplot at 0x113024080>"
      ]
     },
     "execution_count": 28,
     "metadata": {},
     "output_type": "execute_result"
    },
    {
     "data": {
      "image/png": "[encoded data removed]",
      "text/plain": [
       "<matplotlib.figure.Figure at 0x113537978>"
      ]
     },
     "metadata": {},
     "output_type": "display_data"
    }
   ],
   "source": [
    "df.groupby(\"salary_category\").size().plot()"
   ]
  },
  {
   "cell_type": "code",
   "execution_count": null,
   "metadata": {
    "collapsed": true
   },
   "outputs": [],
   "source": []
  }
 ],
 "metadata": {
  "kernelspec": {
   "display_name": "Python [Root]",
   "language": "python",
   "name": "Python [Root]"
  },
  "language_info": {
   "codemirror_mode": {
    "name": "ipython",
    "version": 3
   },
   "file_extension": ".py",
   "mimetype": "text/x-python",
   "name": "python",
   "nbconvert_exporter": "python",
   "pygments_lexer": "ipython3",
   "version": "3.5.2"
  }
 },
 "nbformat": 4,
 "nbformat_minor": 0
}
