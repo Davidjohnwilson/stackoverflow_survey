{
 "cells": [
  {
   "cell_type": "code",
   "execution_count": 2,
   "metadata": {
    "collapsed": false
   },
   "outputs": [],
   "source": [
    "%matplotlib inline\n",
    "\n",
    "import numpy as np\n",
    "import pandas as pd\n",
    "import matplotlib.pyplot as plt"
   ]
  },
  {
   "cell_type": "code",
   "execution_count": 3,
   "metadata": {
    "collapsed": false
   },
   "outputs": [],
   "source": [
    "df = pd.read_csv('./data/2016 Stack Overflow Survey Results/2016 Stack Overflow Survey Responses.csv')"
   ]
  },
  {
   "cell_type": "code",
   "execution_count": 4,
   "metadata": {
    "collapsed": false
   },
   "outputs": [
    {
     "data": {
      "text/html": [
       "<div>\n",
       "<table border=\"1\" class=\"dataframe\">\n",
       "  <thead>\n",
       "    <tr style=\"text-align: right;\">\n",
       "      <th></th>\n",
       "      <th>Unnamed: 0</th>\n",
       "      <th>collector</th>\n",
       "      <th>country</th>\n",
       "      <th>un_subregion</th>\n",
       "      <th>so_region</th>\n",
       "      <th>age_range</th>\n",
       "      <th>age_midpoint</th>\n",
       "      <th>gender</th>\n",
       "      <th>self_identification</th>\n",
       "      <th>occupation</th>\n",
       "      <th>...</th>\n",
       "      <th>important_sameend</th>\n",
       "      <th>important_newtech</th>\n",
       "      <th>important_buildnew</th>\n",
       "      <th>important_buildexisting</th>\n",
       "      <th>important_promotion</th>\n",
       "      <th>important_companymission</th>\n",
       "      <th>important_wfh</th>\n",
       "      <th>important_ownoffice</th>\n",
       "      <th>developer_challenges</th>\n",
       "      <th>why_stack_overflow</th>\n",
       "    </tr>\n",
       "  </thead>\n",
       "  <tbody>\n",
       "    <tr>\n",
       "      <th>0</th>\n",
       "      <td>1888</td>\n",
       "      <td>Facebook</td>\n",
       "      <td>Afghanistan</td>\n",
       "      <td>Southern Asia</td>\n",
       "      <td>Central Asia</td>\n",
       "      <td>20-24</td>\n",
       "      <td>22.0</td>\n",
       "      <td>Male</td>\n",
       "      <td>Programmer</td>\n",
       "      <td>NaN</td>\n",
       "      <td>...</td>\n",
       "      <td>NaN</td>\n",
       "      <td>NaN</td>\n",
       "      <td>NaN</td>\n",
       "      <td>NaN</td>\n",
       "      <td>NaN</td>\n",
       "      <td>NaN</td>\n",
       "      <td>NaN</td>\n",
       "      <td>NaN</td>\n",
       "      <td>NaN</td>\n",
       "      <td>NaN</td>\n",
       "    </tr>\n",
       "    <tr>\n",
       "      <th>1</th>\n",
       "      <td>4637</td>\n",
       "      <td>Facebook</td>\n",
       "      <td>Afghanistan</td>\n",
       "      <td>Southern Asia</td>\n",
       "      <td>Central Asia</td>\n",
       "      <td>30-34</td>\n",
       "      <td>32.0</td>\n",
       "      <td>Male</td>\n",
       "      <td>Developer; Engineer; Programmer</td>\n",
       "      <td>Mobile developer - iOS</td>\n",
       "      <td>...</td>\n",
       "      <td>This is somewhat important</td>\n",
       "      <td>This is very important</td>\n",
       "      <td>This is very important</td>\n",
       "      <td>I don't care about this</td>\n",
       "      <td>This is somewhat important</td>\n",
       "      <td>This is somewhat important</td>\n",
       "      <td>I don't care about this</td>\n",
       "      <td>I don't care about this</td>\n",
       "      <td>Unrealistic expectations; Interacting with non...</td>\n",
       "      <td>To get help for my job; Because I can't do my ...</td>\n",
       "    </tr>\n",
       "    <tr>\n",
       "      <th>2</th>\n",
       "      <td>11164</td>\n",
       "      <td>Facebook</td>\n",
       "      <td>Afghanistan</td>\n",
       "      <td>Southern Asia</td>\n",
       "      <td>Central Asia</td>\n",
       "      <td>NaN</td>\n",
       "      <td>NaN</td>\n",
       "      <td>NaN</td>\n",
       "      <td>NaN</td>\n",
       "      <td>NaN</td>\n",
       "      <td>...</td>\n",
       "      <td>NaN</td>\n",
       "      <td>NaN</td>\n",
       "      <td>NaN</td>\n",
       "      <td>NaN</td>\n",
       "      <td>NaN</td>\n",
       "      <td>NaN</td>\n",
       "      <td>NaN</td>\n",
       "      <td>NaN</td>\n",
       "      <td>NaN</td>\n",
       "      <td>NaN</td>\n",
       "    </tr>\n",
       "    <tr>\n",
       "      <th>3</th>\n",
       "      <td>21378</td>\n",
       "      <td>Facebook</td>\n",
       "      <td>Afghanistan</td>\n",
       "      <td>Southern Asia</td>\n",
       "      <td>Central Asia</td>\n",
       "      <td>NaN</td>\n",
       "      <td>NaN</td>\n",
       "      <td>Female</td>\n",
       "      <td>Engineer</td>\n",
       "      <td>DevOps</td>\n",
       "      <td>...</td>\n",
       "      <td>I don't care about this</td>\n",
       "      <td>This is somewhat important</td>\n",
       "      <td>This is very important</td>\n",
       "      <td>This is very important</td>\n",
       "      <td>I don't care about this</td>\n",
       "      <td>I don't care about this</td>\n",
       "      <td>This is very important</td>\n",
       "      <td>This is somewhat important</td>\n",
       "      <td>Corporate policies; Interacting with non-techn...</td>\n",
       "      <td>To get help for my job; Beacause I love to learn</td>\n",
       "    </tr>\n",
       "    <tr>\n",
       "      <th>4</th>\n",
       "      <td>30280</td>\n",
       "      <td>Facebook</td>\n",
       "      <td>Afghanistan</td>\n",
       "      <td>Southern Asia</td>\n",
       "      <td>Central Asia</td>\n",
       "      <td>&gt; 60</td>\n",
       "      <td>65.0</td>\n",
       "      <td>Prefer not to disclose</td>\n",
       "      <td>Developer; Engineer; Programmer; Sr. Developer...</td>\n",
       "      <td>NaN</td>\n",
       "      <td>...</td>\n",
       "      <td>NaN</td>\n",
       "      <td>NaN</td>\n",
       "      <td>NaN</td>\n",
       "      <td>NaN</td>\n",
       "      <td>NaN</td>\n",
       "      <td>NaN</td>\n",
       "      <td>NaN</td>\n",
       "      <td>NaN</td>\n",
       "      <td>NaN</td>\n",
       "      <td>NaN</td>\n",
       "    </tr>\n",
       "  </tbody>\n",
       "</table>\n",
       "<p>5 rows × 66 columns</p>\n",
       "</div>"
      ],
      "text/plain": [
       "   Unnamed: 0 collector      country   un_subregion     so_region age_range  \\\n",
       "0        1888  Facebook  Afghanistan  Southern Asia  Central Asia     20-24   \n",
       "1        4637  Facebook  Afghanistan  Southern Asia  Central Asia     30-34   \n",
       "2       11164  Facebook  Afghanistan  Southern Asia  Central Asia       NaN   \n",
       "3       21378  Facebook  Afghanistan  Southern Asia  Central Asia       NaN   \n",
       "4       30280  Facebook  Afghanistan  Southern Asia  Central Asia      > 60   \n",
       "\n",
       "   age_midpoint                  gender  \\\n",
       "0          22.0                    Male   \n",
       "1          32.0                    Male   \n",
       "2           NaN                     NaN   \n",
       "3           NaN                  Female   \n",
       "4          65.0  Prefer not to disclose   \n",
       "\n",
       "                                 self_identification              occupation  \\\n",
       "0                                         Programmer                     NaN   \n",
       "1                    Developer; Engineer; Programmer  Mobile developer - iOS   \n",
       "2                                                NaN                     NaN   \n",
       "3                                           Engineer                  DevOps   \n",
       "4  Developer; Engineer; Programmer; Sr. Developer...                     NaN   \n",
       "\n",
       "                         ...                          \\\n",
       "0                        ...                           \n",
       "1                        ...                           \n",
       "2                        ...                           \n",
       "3                        ...                           \n",
       "4                        ...                           \n",
       "\n",
       "            important_sameend           important_newtech  \\\n",
       "0                         NaN                         NaN   \n",
       "1  This is somewhat important      This is very important   \n",
       "2                         NaN                         NaN   \n",
       "3     I don't care about this  This is somewhat important   \n",
       "4                         NaN                         NaN   \n",
       "\n",
       "       important_buildnew  important_buildexisting  \\\n",
       "0                     NaN                      NaN   \n",
       "1  This is very important  I don't care about this   \n",
       "2                     NaN                      NaN   \n",
       "3  This is very important   This is very important   \n",
       "4                     NaN                      NaN   \n",
       "\n",
       "          important_promotion    important_companymission  \\\n",
       "0                         NaN                         NaN   \n",
       "1  This is somewhat important  This is somewhat important   \n",
       "2                         NaN                         NaN   \n",
       "3     I don't care about this     I don't care about this   \n",
       "4                         NaN                         NaN   \n",
       "\n",
       "             important_wfh         important_ownoffice  \\\n",
       "0                      NaN                         NaN   \n",
       "1  I don't care about this     I don't care about this   \n",
       "2                      NaN                         NaN   \n",
       "3   This is very important  This is somewhat important   \n",
       "4                      NaN                         NaN   \n",
       "\n",
       "                                developer_challenges  \\\n",
       "0                                                NaN   \n",
       "1  Unrealistic expectations; Interacting with non...   \n",
       "2                                                NaN   \n",
       "3  Corporate policies; Interacting with non-techn...   \n",
       "4                                                NaN   \n",
       "\n",
       "                                  why_stack_overflow  \n",
       "0                                                NaN  \n",
       "1  To get help for my job; Because I can't do my ...  \n",
       "2                                                NaN  \n",
       "3   To get help for my job; Beacause I love to learn  \n",
       "4                                                NaN  \n",
       "\n",
       "[5 rows x 66 columns]"
      ]
     },
     "execution_count": 4,
     "metadata": {},
     "output_type": "execute_result"
    }
   ],
   "source": [
    "df.head()"
   ]
  },
  {
   "cell_type": "code",
   "execution_count": 5,
   "metadata": {
    "collapsed": false
   },
   "outputs": [
    {
     "name": "stderr",
     "output_type": "stream",
     "text": [
      "/Users/davidwilson/anaconda/lib/python3.5/site-packages/numpy/lib/function_base.py:3834: RuntimeWarning: Invalid value encountered in percentile\n",
      "  RuntimeWarning)\n"
     ]
    },
    {
     "data": {
      "text/html": [
       "<div>\n",
       "<table border=\"1\" class=\"dataframe\">\n",
       "  <thead>\n",
       "    <tr style=\"text-align: right;\">\n",
       "      <th></th>\n",
       "      <th>Unnamed: 0</th>\n",
       "      <th>age_midpoint</th>\n",
       "      <th>experience_midpoint</th>\n",
       "      <th>salary_midpoint</th>\n",
       "      <th>big_mac_index</th>\n",
       "      <th>programming_ability</th>\n",
       "    </tr>\n",
       "  </thead>\n",
       "  <tbody>\n",
       "    <tr>\n",
       "      <th>count</th>\n",
       "      <td>56030.000000</td>\n",
       "      <td>55336.000000</td>\n",
       "      <td>49520.000000</td>\n",
       "      <td>41742.000000</td>\n",
       "      <td>48825.000000</td>\n",
       "      <td>46982.000000</td>\n",
       "    </tr>\n",
       "    <tr>\n",
       "      <th>mean</th>\n",
       "      <td>28014.500000</td>\n",
       "      <td>29.621286</td>\n",
       "      <td>6.640145</td>\n",
       "      <td>53952.973025</td>\n",
       "      <td>3.907442</td>\n",
       "      <td>7.094547</td>\n",
       "    </tr>\n",
       "    <tr>\n",
       "      <th>std</th>\n",
       "      <td>16174.612128</td>\n",
       "      <td>9.108102</td>\n",
       "      <td>4.446157</td>\n",
       "      <td>46518.823875</td>\n",
       "      <td>1.120232</td>\n",
       "      <td>1.766312</td>\n",
       "    </tr>\n",
       "    <tr>\n",
       "      <th>min</th>\n",
       "      <td>0.000000</td>\n",
       "      <td>16.000000</td>\n",
       "      <td>0.500000</td>\n",
       "      <td>5000.000000</td>\n",
       "      <td>1.530000</td>\n",
       "      <td>1.000000</td>\n",
       "    </tr>\n",
       "    <tr>\n",
       "      <th>25%</th>\n",
       "      <td>14007.250000</td>\n",
       "      <td>NaN</td>\n",
       "      <td>NaN</td>\n",
       "      <td>NaN</td>\n",
       "      <td>NaN</td>\n",
       "      <td>NaN</td>\n",
       "    </tr>\n",
       "    <tr>\n",
       "      <th>50%</th>\n",
       "      <td>28014.500000</td>\n",
       "      <td>NaN</td>\n",
       "      <td>NaN</td>\n",
       "      <td>NaN</td>\n",
       "      <td>NaN</td>\n",
       "      <td>NaN</td>\n",
       "    </tr>\n",
       "    <tr>\n",
       "      <th>75%</th>\n",
       "      <td>42021.750000</td>\n",
       "      <td>NaN</td>\n",
       "      <td>NaN</td>\n",
       "      <td>NaN</td>\n",
       "      <td>NaN</td>\n",
       "      <td>NaN</td>\n",
       "    </tr>\n",
       "    <tr>\n",
       "      <th>max</th>\n",
       "      <td>56029.000000</td>\n",
       "      <td>65.000000</td>\n",
       "      <td>13.000000</td>\n",
       "      <td>210000.000000</td>\n",
       "      <td>6.440000</td>\n",
       "      <td>10.000000</td>\n",
       "    </tr>\n",
       "  </tbody>\n",
       "</table>\n",
       "</div>"
      ],
      "text/plain": [
       "         Unnamed: 0  age_midpoint  experience_midpoint  salary_midpoint  \\\n",
       "count  56030.000000  55336.000000         49520.000000     41742.000000   \n",
       "mean   28014.500000     29.621286             6.640145     53952.973025   \n",
       "std    16174.612128      9.108102             4.446157     46518.823875   \n",
       "min        0.000000     16.000000             0.500000      5000.000000   \n",
       "25%    14007.250000           NaN                  NaN              NaN   \n",
       "50%    28014.500000           NaN                  NaN              NaN   \n",
       "75%    42021.750000           NaN                  NaN              NaN   \n",
       "max    56029.000000     65.000000            13.000000    210000.000000   \n",
       "\n",
       "       big_mac_index  programming_ability  \n",
       "count   48825.000000         46982.000000  \n",
       "mean        3.907442             7.094547  \n",
       "std         1.120232             1.766312  \n",
       "min         1.530000             1.000000  \n",
       "25%              NaN                  NaN  \n",
       "50%              NaN                  NaN  \n",
       "75%              NaN                  NaN  \n",
       "max         6.440000            10.000000  "
      ]
     },
     "execution_count": 5,
     "metadata": {},
     "output_type": "execute_result"
    }
   ],
   "source": [
    "df.describe()"
   ]
  },
  {
   "cell_type": "code",
   "execution_count": 6,
   "metadata": {
    "collapsed": false
   },
   "outputs": [
    {
     "data": {
      "text/plain": [
       "<matplotlib.axes._subplots.AxesSubplot at 0x1129245f8>"
      ]
     },
     "execution_count": 6,
     "metadata": {},
     "output_type": "execute_result"
    },
    {
     "data": {
      "image/png": "[encoded data removed]",
      "text/plain": [
       "<matplotlib.figure.Figure at 0x116679b00>"
      ]
     },
     "metadata": {},
     "output_type": "display_data"
    }
   ],
   "source": [
    "df.plot(x='age_midpoint',y='salary_midpoint',kind='scatter')"
   ]
  },
  {
   "cell_type": "code",
   "execution_count": 7,
   "metadata": {
    "collapsed": true
   },
   "outputs": [],
   "source": [
    "df[\"age_category\"] = df[\"age_range\"].astype(\"category\")"
   ]
  },
  {
   "cell_type": "code",
   "execution_count": 8,
   "metadata": {
    "collapsed": false
   },
   "outputs": [
    {
     "data": {
      "text/plain": [
       "count     55727\n",
       "unique        9\n",
       "top       25-29\n",
       "freq      15702\n",
       "Name: age_category, dtype: object"
      ]
     },
     "execution_count": 8,
     "metadata": {},
     "output_type": "execute_result"
    }
   ],
   "source": [
    "df[\"age_category\"].describe()"
   ]
  },
  {
   "cell_type": "code",
   "execution_count": null,
   "metadata": {
    "collapsed": false
   },
   "outputs": [],
   "source": []
  },
  {
   "cell_type": "code",
   "execution_count": 9,
   "metadata": {
    "collapsed": false
   },
   "outputs": [
    {
     "data": {
      "text/plain": [
       "age_category\n",
       "20-24                     13055\n",
       "25-29                     15702\n",
       "30-34                     10018\n",
       "35-39                      5657\n",
       "40-49                      4905\n",
       "50-59                      1640\n",
       "< 20                       3937\n",
       "> 60                        422\n",
       "Prefer not to disclose      391\n",
       "dtype: int64"
      ]
     },
     "execution_count": 9,
     "metadata": {},
     "output_type": "execute_result"
    }
   ],
   "source": [
    "df.groupby(\"age_category\").size()"
   ]
  },
  {
   "cell_type": "code",
   "execution_count": 10,
   "metadata": {
    "collapsed": false
   },
   "outputs": [],
   "source": [
    "df[\"age_category\"] = df[\"age_category\"].cat.set_categories([ '< 20', '20-24', '25-29', '30-34', '35-39', '40-49', '50-59', '> 60','Prefer not to disclose'])"
   ]
  },
  {
   "cell_type": "code",
   "execution_count": 11,
   "metadata": {
    "collapsed": false
   },
   "outputs": [
    {
     "data": {
      "text/plain": [
       "age_category\n",
       "< 20                       3937\n",
       "20-24                     13055\n",
       "25-29                     15702\n",
       "30-34                     10018\n",
       "35-39                      5657\n",
       "40-49                      4905\n",
       "50-59                      1640\n",
       "> 60                        422\n",
       "Prefer not to disclose      391\n",
       "dtype: int64"
      ]
     },
     "execution_count": 11,
     "metadata": {},
     "output_type": "execute_result"
    }
   ],
   "source": [
    "df.groupby(\"age_category\").size()"
   ]
  },
  {
   "cell_type": "code",
   "execution_count": 12,
   "metadata": {
    "collapsed": false
   },
   "outputs": [
    {
     "data": {
      "text/plain": [
       "<matplotlib.axes._subplots.AxesSubplot at 0x115649320>"
      ]
     },
     "execution_count": 12,
     "metadata": {},
     "output_type": "execute_result"
    },
    {
     "data": {
      "image/png": "[encoded data removed]",
      "text/plain": [
       "<matplotlib.figure.Figure at 0x11563ab70>"
      ]
     },
     "metadata": {},
     "output_type": "display_data"
    }
   ],
   "source": [
    "df.groupby(\"age_category\").size().plot()"
   ]
  },
  {
   "cell_type": "code",
   "execution_count": 13,
   "metadata": {
    "collapsed": false
   },
   "outputs": [
    {
     "data": {
      "text/plain": [
       "count                 46121\n",
       "unique                   24\n",
       "top       Less than $10,000\n",
       "freq                   7686\n",
       "Name: salary_range, dtype: object"
      ]
     },
     "execution_count": 13,
     "metadata": {},
     "output_type": "execute_result"
    }
   ],
   "source": [
    "df[\"salary_range\"].describe()"
   ]
  },
  {
   "cell_type": "code",
   "execution_count": 14,
   "metadata": {
    "collapsed": true
   },
   "outputs": [],
   "source": [
    "df[\"salary_category\"] = df[\"salary_range\"].astype('category')"
   ]
  },
  {
   "cell_type": "code",
   "execution_count": 15,
   "metadata": {
    "collapsed": false
   },
   "outputs": [
    {
     "data": {
      "text/plain": [
       "count                 46121\n",
       "unique                   24\n",
       "top       Less than $10,000\n",
       "freq                   7686\n",
       "Name: salary_category, dtype: object"
      ]
     },
     "execution_count": 15,
     "metadata": {},
     "output_type": "execute_result"
    }
   ],
   "source": [
    "df[\"salary_category\"].describe()"
   ]
  },
  {
   "cell_type": "code",
   "execution_count": 16,
   "metadata": {
    "collapsed": false
   },
   "outputs": [
    {
     "data": {
      "text/plain": [
       "salary_category\n",
       "$10,000 - $20,000         4977\n",
       "$100,000 - $110,000       1653\n",
       "$110,000 - $120,000       1086\n",
       "$120,000 - $130,000        917\n",
       "$130,000 - $140,000        608\n",
       "$140,000 - $150,000        569\n",
       "$150,000 - $160,000        472\n",
       "$160,000 - $170,000        278\n",
       "$170,000 - $180,000        206\n",
       "$180,000 - $190,000        136\n",
       "$190,000 - $200,000        117\n",
       "$20,000 - $30,000         3677\n",
       "$30,000 - $40,000         3429\n",
       "$40,000 - $50,000         3291\n",
       "$50,000 - $60,000         3138\n",
       "$60,000 - $70,000         2823\n",
       "$70,000 - $80,000         2500\n",
       "$80,000 - $90,000         1834\n",
       "$90,000 - $100,000        1684\n",
       "Less than $10,000         7686\n",
       "More than $200,000         661\n",
       "Other (please specify)     253\n",
       "Rather not say            2246\n",
       "Unemployed                1880\n",
       "dtype: int64"
      ]
     },
     "execution_count": 16,
     "metadata": {},
     "output_type": "execute_result"
    }
   ],
   "source": [
    "df.groupby(\"salary_category\").size()"
   ]
  },
  {
   "cell_type": "code",
   "execution_count": 17,
   "metadata": {
    "collapsed": false
   },
   "outputs": [],
   "source": [
    "df[\"salary_category\"] = df[\"salary_category\"].cat.set_categories([ 'Unemployed','Less than $10,000','$10,000 - $20,000', '$20,000 - $30,000','$30,000 - $40,000', '$40,000 - $50,000', '$50,000 - $60,000',\n",
    "       '$60,000 - $70,000', '$70,000 - $80,000', '$80,000 - $90,000',\n",
    "       '$90,000 - $100,000', '$100,000 - $110,000', '$110,000 - $120,000',\n",
    "       '$120,000 - $130,000', '$130,000 - $140,000', '$140,000 - $150,000',\n",
    "       '$150,000 - $160,000', '$160,000 - $170,000', '$170,000 - $180,000',\n",
    "       '$180,000 - $190,000', '$190,000 - $200,000', \n",
    "         'More than $200,000',\n",
    "       'Other (please specify)', 'Rather not say'])"
   ]
  },
  {
   "cell_type": "code",
   "execution_count": 18,
   "metadata": {
    "collapsed": false
   },
   "outputs": [
    {
     "data": {
      "text/plain": [
       "salary_category\n",
       "Unemployed                1880\n",
       "Less than $10,000         7686\n",
       "$10,000 - $20,000         4977\n",
       "$20,000 - $30,000         3677\n",
       "$30,000 - $40,000         3429\n",
       "$40,000 - $50,000         3291\n",
       "$50,000 - $60,000         3138\n",
       "$60,000 - $70,000         2823\n",
       "$70,000 - $80,000         2500\n",
       "$80,000 - $90,000         1834\n",
       "$90,000 - $100,000        1684\n",
       "$100,000 - $110,000       1653\n",
       "$110,000 - $120,000       1086\n",
       "$120,000 - $130,000        917\n",
       "$130,000 - $140,000        608\n",
       "$140,000 - $150,000        569\n",
       "$150,000 - $160,000        472\n",
       "$160,000 - $170,000        278\n",
       "$170,000 - $180,000        206\n",
       "$180,000 - $190,000        136\n",
       "$190,000 - $200,000        117\n",
       "More than $200,000         661\n",
       "Other (please specify)     253\n",
       "Rather not say            2246\n",
       "dtype: int64"
      ]
     },
     "execution_count": 18,
     "metadata": {},
     "output_type": "execute_result"
    }
   ],
   "source": [
    "df.groupby(\"salary_category\").size()"
   ]
  },
  {
   "cell_type": "code",
   "execution_count": 19,
   "metadata": {
    "collapsed": false
   },
   "outputs": [
    {
     "data": {
      "text/plain": [
       "<matplotlib.axes._subplots.AxesSubplot at 0x1129c1cf8>"
      ]
     },
     "execution_count": 19,
     "metadata": {},
     "output_type": "execute_result"
    },
    {
     "data": {
      "image/png": "[encoded data removed]",
      "text/plain": [
       "<matplotlib.figure.Figure at 0x112978c50>"
      ]
     },
     "metadata": {},
     "output_type": "display_data"
    }
   ],
   "source": [
    "df.groupby(\"salary_category\").size().plot()"
   ]
  },
  {
   "cell_type": "code",
   "execution_count": 21,
   "metadata": {
    "collapsed": false
   },
   "outputs": [
    {
     "data": {
      "text/plain": [
       "Index(['Unnamed: 0', 'collector', 'country', 'un_subregion', 'so_region',\n",
       "       'age_range', 'age_midpoint', 'gender', 'self_identification',\n",
       "       'occupation', 'occupation_group', 'experience_range',\n",
       "       'experience_midpoint', 'salary_range', 'salary_midpoint',\n",
       "       'big_mac_index', 'tech_do', 'tech_want', 'aliens',\n",
       "       'programming_ability', 'employment_status', 'industry',\n",
       "       'company_size_range', 'team_size_range', 'women_on_team', 'remote',\n",
       "       'job_satisfaction', 'job_discovery', 'dev_environment',\n",
       "       'commit_frequency', 'hobby', 'dogs_vs_cats', 'desktop_os',\n",
       "       'unit_testing', 'rep_range', 'visit_frequency', 'why_learn_new_tech',\n",
       "       'education', 'open_to_new_job', 'new_job_value', 'job_search_annoyance',\n",
       "       'interview_likelihood', 'how_to_improve_interview_process',\n",
       "       'star_wars_vs_star_trek', 'agree_tech', 'agree_notice',\n",
       "       'agree_problemsolving', 'agree_diversity', 'agree_adblocker',\n",
       "       'agree_alcohol', 'agree_loveboss', 'agree_nightcode', 'agree_legacy',\n",
       "       'agree_mars', 'important_variety', 'important_control',\n",
       "       'important_sameend', 'important_newtech', 'important_buildnew',\n",
       "       'important_buildexisting', 'important_promotion',\n",
       "       'important_companymission', 'important_wfh', 'important_ownoffice',\n",
       "       'developer_challenges', 'why_stack_overflow', 'age_category',\n",
       "       'salary_category'],\n",
       "      dtype='object')"
      ]
     },
     "execution_count": 21,
     "metadata": {},
     "output_type": "execute_result"
    }
   ],
   "source": [
    "df.columns"
   ]
  },
  {
   "cell_type": "code",
   "execution_count": 26,
   "metadata": {
    "collapsed": false
   },
   "outputs": [
    {
     "data": {
      "text/plain": [
       "<matplotlib.axes._subplots.AxesSubplot at 0x114181c50>"
      ]
     },
     "execution_count": 26,
     "metadata": {},
     "output_type": "execute_result"
    },
    {
     "data": {
      "image/png": "[encoded data removed]",
      "text/plain": [
       "<matplotlib.figure.Figure at 0x114181198>"
      ]
     },
     "metadata": {},
     "output_type": "display_data"
    }
   ],
   "source": [
    "df.groupby('dogs_vs_cats').size().plot()"
   ]
  },
  {
   "cell_type": "code",
   "execution_count": 29,
   "metadata": {
    "collapsed": false
   },
   "outputs": [
    {
     "data": {
      "text/html": [
       "<div>\n",
       "<table border=\"1\" class=\"dataframe\">\n",
       "  <thead>\n",
       "    <tr style=\"text-align: right;\">\n",
       "      <th></th>\n",
       "      <th>star_wars_vs_star_trek</th>\n",
       "      <th>dogs_vs_cats</th>\n",
       "      <th>agree_adblocker</th>\n",
       "    </tr>\n",
       "  </thead>\n",
       "  <tbody>\n",
       "    <tr>\n",
       "      <th>0</th>\n",
       "      <td>NaN</td>\n",
       "      <td>NaN</td>\n",
       "      <td>NaN</td>\n",
       "    </tr>\n",
       "    <tr>\n",
       "      <th>1</th>\n",
       "      <td>Star Wars</td>\n",
       "      <td>Cats</td>\n",
       "      <td>Agree completely</td>\n",
       "    </tr>\n",
       "    <tr>\n",
       "      <th>2</th>\n",
       "      <td>NaN</td>\n",
       "      <td>NaN</td>\n",
       "      <td>NaN</td>\n",
       "    </tr>\n",
       "    <tr>\n",
       "      <th>3</th>\n",
       "      <td>NaN</td>\n",
       "      <td>Cats</td>\n",
       "      <td>Agree completely</td>\n",
       "    </tr>\n",
       "    <tr>\n",
       "      <th>4</th>\n",
       "      <td>NaN</td>\n",
       "      <td>NaN</td>\n",
       "      <td>NaN</td>\n",
       "    </tr>\n",
       "    <tr>\n",
       "      <th>5</th>\n",
       "      <td>NaN</td>\n",
       "      <td>NaN</td>\n",
       "      <td>NaN</td>\n",
       "    </tr>\n",
       "    <tr>\n",
       "      <th>6</th>\n",
       "      <td>NaN</td>\n",
       "      <td>Cats</td>\n",
       "      <td>NaN</td>\n",
       "    </tr>\n",
       "    <tr>\n",
       "      <th>7</th>\n",
       "      <td>NaN</td>\n",
       "      <td>NaN</td>\n",
       "      <td>Neutral</td>\n",
       "    </tr>\n",
       "    <tr>\n",
       "      <th>8</th>\n",
       "      <td>NaN</td>\n",
       "      <td>NaN</td>\n",
       "      <td>NaN</td>\n",
       "    </tr>\n",
       "    <tr>\n",
       "      <th>9</th>\n",
       "      <td>NaN</td>\n",
       "      <td>Dogs</td>\n",
       "      <td>Disagree somewhat</td>\n",
       "    </tr>\n",
       "    <tr>\n",
       "      <th>10</th>\n",
       "      <td>NaN</td>\n",
       "      <td>NaN</td>\n",
       "      <td>NaN</td>\n",
       "    </tr>\n",
       "    <tr>\n",
       "      <th>11</th>\n",
       "      <td>NaN</td>\n",
       "      <td>Cats</td>\n",
       "      <td>Disagree somewhat</td>\n",
       "    </tr>\n",
       "    <tr>\n",
       "      <th>12</th>\n",
       "      <td>Star Wars</td>\n",
       "      <td>Dogs</td>\n",
       "      <td>Disagree completely</td>\n",
       "    </tr>\n",
       "    <tr>\n",
       "      <th>13</th>\n",
       "      <td>Star Wars</td>\n",
       "      <td>Cats</td>\n",
       "      <td>Agree somewhat</td>\n",
       "    </tr>\n",
       "    <tr>\n",
       "      <th>14</th>\n",
       "      <td>NaN</td>\n",
       "      <td>Dogs</td>\n",
       "      <td>Agree completely</td>\n",
       "    </tr>\n",
       "    <tr>\n",
       "      <th>15</th>\n",
       "      <td>NaN</td>\n",
       "      <td>NaN</td>\n",
       "      <td>NaN</td>\n",
       "    </tr>\n",
       "    <tr>\n",
       "      <th>16</th>\n",
       "      <td>NaN</td>\n",
       "      <td>NaN</td>\n",
       "      <td>NaN</td>\n",
       "    </tr>\n",
       "    <tr>\n",
       "      <th>17</th>\n",
       "      <td>NaN</td>\n",
       "      <td>Cats</td>\n",
       "      <td>Agree somewhat</td>\n",
       "    </tr>\n",
       "    <tr>\n",
       "      <th>18</th>\n",
       "      <td>NaN</td>\n",
       "      <td>NaN</td>\n",
       "      <td>NaN</td>\n",
       "    </tr>\n",
       "    <tr>\n",
       "      <th>19</th>\n",
       "      <td>NaN</td>\n",
       "      <td>Other (please specify)</td>\n",
       "      <td>Neutral</td>\n",
       "    </tr>\n",
       "    <tr>\n",
       "      <th>20</th>\n",
       "      <td>Star Trek</td>\n",
       "      <td>Cats</td>\n",
       "      <td>Agree completely</td>\n",
       "    </tr>\n",
       "    <tr>\n",
       "      <th>21</th>\n",
       "      <td>NaN</td>\n",
       "      <td>Other (please specify)</td>\n",
       "      <td>Neutral</td>\n",
       "    </tr>\n",
       "    <tr>\n",
       "      <th>22</th>\n",
       "      <td>NaN</td>\n",
       "      <td>Dogs</td>\n",
       "      <td>Disagree completely</td>\n",
       "    </tr>\n",
       "    <tr>\n",
       "      <th>23</th>\n",
       "      <td>Star Wars</td>\n",
       "      <td>Dogs</td>\n",
       "      <td>Agree completely</td>\n",
       "    </tr>\n",
       "    <tr>\n",
       "      <th>24</th>\n",
       "      <td>Star Wars</td>\n",
       "      <td>Dogs</td>\n",
       "      <td>Neutral</td>\n",
       "    </tr>\n",
       "    <tr>\n",
       "      <th>25</th>\n",
       "      <td>NaN</td>\n",
       "      <td>NaN</td>\n",
       "      <td>NaN</td>\n",
       "    </tr>\n",
       "    <tr>\n",
       "      <th>26</th>\n",
       "      <td>Star Wars</td>\n",
       "      <td>Dogs</td>\n",
       "      <td>Agree completely</td>\n",
       "    </tr>\n",
       "    <tr>\n",
       "      <th>27</th>\n",
       "      <td>NaN</td>\n",
       "      <td>NaN</td>\n",
       "      <td>NaN</td>\n",
       "    </tr>\n",
       "    <tr>\n",
       "      <th>28</th>\n",
       "      <td>NaN</td>\n",
       "      <td>Dogs</td>\n",
       "      <td>NaN</td>\n",
       "    </tr>\n",
       "    <tr>\n",
       "      <th>29</th>\n",
       "      <td>NaN</td>\n",
       "      <td>NaN</td>\n",
       "      <td>NaN</td>\n",
       "    </tr>\n",
       "    <tr>\n",
       "      <th>...</th>\n",
       "      <td>...</td>\n",
       "      <td>...</td>\n",
       "      <td>...</td>\n",
       "    </tr>\n",
       "    <tr>\n",
       "      <th>56000</th>\n",
       "      <td>Star Trek</td>\n",
       "      <td>Other (please specify)</td>\n",
       "      <td>Agree completely</td>\n",
       "    </tr>\n",
       "    <tr>\n",
       "      <th>56001</th>\n",
       "      <td>Star Wars</td>\n",
       "      <td>Dogs</td>\n",
       "      <td>Disagree completely</td>\n",
       "    </tr>\n",
       "    <tr>\n",
       "      <th>56002</th>\n",
       "      <td>Star Wars</td>\n",
       "      <td>Dogs</td>\n",
       "      <td>Neutral</td>\n",
       "    </tr>\n",
       "    <tr>\n",
       "      <th>56003</th>\n",
       "      <td>Star Wars</td>\n",
       "      <td>Dogs</td>\n",
       "      <td>Agree somewhat</td>\n",
       "    </tr>\n",
       "    <tr>\n",
       "      <th>56004</th>\n",
       "      <td>NaN</td>\n",
       "      <td>Cats</td>\n",
       "      <td>Agree completely</td>\n",
       "    </tr>\n",
       "    <tr>\n",
       "      <th>56005</th>\n",
       "      <td>Star Wars</td>\n",
       "      <td>Cats</td>\n",
       "      <td>Agree completely</td>\n",
       "    </tr>\n",
       "    <tr>\n",
       "      <th>56006</th>\n",
       "      <td>Star Wars</td>\n",
       "      <td>Cats</td>\n",
       "      <td>Neutral</td>\n",
       "    </tr>\n",
       "    <tr>\n",
       "      <th>56007</th>\n",
       "      <td>NaN</td>\n",
       "      <td>Dogs</td>\n",
       "      <td>Disagree completely</td>\n",
       "    </tr>\n",
       "    <tr>\n",
       "      <th>56008</th>\n",
       "      <td>Star Wars</td>\n",
       "      <td>Dogs</td>\n",
       "      <td>Agree completely</td>\n",
       "    </tr>\n",
       "    <tr>\n",
       "      <th>56009</th>\n",
       "      <td>Star Wars</td>\n",
       "      <td>Dogs</td>\n",
       "      <td>Neutral</td>\n",
       "    </tr>\n",
       "    <tr>\n",
       "      <th>56010</th>\n",
       "      <td>NaN</td>\n",
       "      <td>NaN</td>\n",
       "      <td>NaN</td>\n",
       "    </tr>\n",
       "    <tr>\n",
       "      <th>56011</th>\n",
       "      <td>NaN</td>\n",
       "      <td>NaN</td>\n",
       "      <td>NaN</td>\n",
       "    </tr>\n",
       "    <tr>\n",
       "      <th>56012</th>\n",
       "      <td>Star Wars; Star Trek</td>\n",
       "      <td>Cats</td>\n",
       "      <td>Disagree somewhat</td>\n",
       "    </tr>\n",
       "    <tr>\n",
       "      <th>56013</th>\n",
       "      <td>Star Trek</td>\n",
       "      <td>NaN</td>\n",
       "      <td>NaN</td>\n",
       "    </tr>\n",
       "    <tr>\n",
       "      <th>56014</th>\n",
       "      <td>NaN</td>\n",
       "      <td>Cats</td>\n",
       "      <td>Disagree somewhat</td>\n",
       "    </tr>\n",
       "    <tr>\n",
       "      <th>56015</th>\n",
       "      <td>NaN</td>\n",
       "      <td>NaN</td>\n",
       "      <td>NaN</td>\n",
       "    </tr>\n",
       "    <tr>\n",
       "      <th>56016</th>\n",
       "      <td>NaN</td>\n",
       "      <td>NaN</td>\n",
       "      <td>NaN</td>\n",
       "    </tr>\n",
       "    <tr>\n",
       "      <th>56017</th>\n",
       "      <td>NaN</td>\n",
       "      <td>Dogs</td>\n",
       "      <td>NaN</td>\n",
       "    </tr>\n",
       "    <tr>\n",
       "      <th>56018</th>\n",
       "      <td>NaN</td>\n",
       "      <td>NaN</td>\n",
       "      <td>NaN</td>\n",
       "    </tr>\n",
       "    <tr>\n",
       "      <th>56019</th>\n",
       "      <td>Star Wars</td>\n",
       "      <td>Dogs</td>\n",
       "      <td>Disagree somewhat</td>\n",
       "    </tr>\n",
       "    <tr>\n",
       "      <th>56020</th>\n",
       "      <td>NaN</td>\n",
       "      <td>Cats</td>\n",
       "      <td>Disagree completely</td>\n",
       "    </tr>\n",
       "    <tr>\n",
       "      <th>56021</th>\n",
       "      <td>NaN</td>\n",
       "      <td>NaN</td>\n",
       "      <td>NaN</td>\n",
       "    </tr>\n",
       "    <tr>\n",
       "      <th>56022</th>\n",
       "      <td>Star Trek</td>\n",
       "      <td>Dogs</td>\n",
       "      <td>Agree completely</td>\n",
       "    </tr>\n",
       "    <tr>\n",
       "      <th>56023</th>\n",
       "      <td>NaN</td>\n",
       "      <td>NaN</td>\n",
       "      <td>NaN</td>\n",
       "    </tr>\n",
       "    <tr>\n",
       "      <th>56024</th>\n",
       "      <td>NaN</td>\n",
       "      <td>NaN</td>\n",
       "      <td>NaN</td>\n",
       "    </tr>\n",
       "    <tr>\n",
       "      <th>56025</th>\n",
       "      <td>NaN</td>\n",
       "      <td>NaN</td>\n",
       "      <td>NaN</td>\n",
       "    </tr>\n",
       "    <tr>\n",
       "      <th>56026</th>\n",
       "      <td>NaN</td>\n",
       "      <td>Dogs</td>\n",
       "      <td>NaN</td>\n",
       "    </tr>\n",
       "    <tr>\n",
       "      <th>56027</th>\n",
       "      <td>NaN</td>\n",
       "      <td>NaN</td>\n",
       "      <td>NaN</td>\n",
       "    </tr>\n",
       "    <tr>\n",
       "      <th>56028</th>\n",
       "      <td>NaN</td>\n",
       "      <td>NaN</td>\n",
       "      <td>NaN</td>\n",
       "    </tr>\n",
       "    <tr>\n",
       "      <th>56029</th>\n",
       "      <td>Star Wars</td>\n",
       "      <td>Other (please specify)</td>\n",
       "      <td>Agree somewhat</td>\n",
       "    </tr>\n",
       "  </tbody>\n",
       "</table>\n",
       "<p>56030 rows × 3 columns</p>\n",
       "</div>"
      ],
      "text/plain": [
       "      star_wars_vs_star_trek            dogs_vs_cats      agree_adblocker\n",
       "0                        NaN                     NaN                  NaN\n",
       "1                  Star Wars                    Cats     Agree completely\n",
       "2                        NaN                     NaN                  NaN\n",
       "3                        NaN                    Cats     Agree completely\n",
       "4                        NaN                     NaN                  NaN\n",
       "5                        NaN                     NaN                  NaN\n",
       "6                        NaN                    Cats                  NaN\n",
       "7                        NaN                     NaN              Neutral\n",
       "8                        NaN                     NaN                  NaN\n",
       "9                        NaN                    Dogs    Disagree somewhat\n",
       "10                       NaN                     NaN                  NaN\n",
       "11                       NaN                    Cats    Disagree somewhat\n",
       "12                 Star Wars                    Dogs  Disagree completely\n",
       "13                 Star Wars                    Cats       Agree somewhat\n",
       "14                       NaN                    Dogs     Agree completely\n",
       "15                       NaN                     NaN                  NaN\n",
       "16                       NaN                     NaN                  NaN\n",
       "17                       NaN                    Cats       Agree somewhat\n",
       "18                       NaN                     NaN                  NaN\n",
       "19                       NaN  Other (please specify)              Neutral\n",
       "20                 Star Trek                    Cats     Agree completely\n",
       "21                       NaN  Other (please specify)              Neutral\n",
       "22                       NaN                    Dogs  Disagree completely\n",
       "23                 Star Wars                    Dogs     Agree completely\n",
       "24                 Star Wars                    Dogs              Neutral\n",
       "25                       NaN                     NaN                  NaN\n",
       "26                 Star Wars                    Dogs     Agree completely\n",
       "27                       NaN                     NaN                  NaN\n",
       "28                       NaN                    Dogs                  NaN\n",
       "29                       NaN                     NaN                  NaN\n",
       "...                      ...                     ...                  ...\n",
       "56000              Star Trek  Other (please specify)     Agree completely\n",
       "56001              Star Wars                    Dogs  Disagree completely\n",
       "56002              Star Wars                    Dogs              Neutral\n",
       "56003              Star Wars                    Dogs       Agree somewhat\n",
       "56004                    NaN                    Cats     Agree completely\n",
       "56005              Star Wars                    Cats     Agree completely\n",
       "56006              Star Wars                    Cats              Neutral\n",
       "56007                    NaN                    Dogs  Disagree completely\n",
       "56008              Star Wars                    Dogs     Agree completely\n",
       "56009              Star Wars                    Dogs              Neutral\n",
       "56010                    NaN                     NaN                  NaN\n",
       "56011                    NaN                     NaN                  NaN\n",
       "56012   Star Wars; Star Trek                    Cats    Disagree somewhat\n",
       "56013              Star Trek                     NaN                  NaN\n",
       "56014                    NaN                    Cats    Disagree somewhat\n",
       "56015                    NaN                     NaN                  NaN\n",
       "56016                    NaN                     NaN                  NaN\n",
       "56017                    NaN                    Dogs                  NaN\n",
       "56018                    NaN                     NaN                  NaN\n",
       "56019              Star Wars                    Dogs    Disagree somewhat\n",
       "56020                    NaN                    Cats  Disagree completely\n",
       "56021                    NaN                     NaN                  NaN\n",
       "56022              Star Trek                    Dogs     Agree completely\n",
       "56023                    NaN                     NaN                  NaN\n",
       "56024                    NaN                     NaN                  NaN\n",
       "56025                    NaN                     NaN                  NaN\n",
       "56026                    NaN                    Dogs                  NaN\n",
       "56027                    NaN                     NaN                  NaN\n",
       "56028                    NaN                     NaN                  NaN\n",
       "56029              Star Wars  Other (please specify)       Agree somewhat\n",
       "\n",
       "[56030 rows x 3 columns]"
      ]
     },
     "execution_count": 29,
     "metadata": {},
     "output_type": "execute_result"
    }
   ],
   "source": [
    "df[['star_wars_vs_star_trek','dogs_vs_cats','agree_adblocker']]"
   ]
  },
  {
   "cell_type": "code",
   "execution_count": 32,
   "metadata": {
    "collapsed": false
   },
   "outputs": [
    {
     "data": {
      "text/plain": [
       "<matplotlib.axes._subplots.AxesSubplot at 0x11431ec88>"
      ]
     },
     "execution_count": 32,
     "metadata": {},
     "output_type": "execute_result"
    },
    {
     "data": {
      "image/png": "[encoded data removed]",
      "text/plain": [
       "<matplotlib.figure.Figure at 0x114359198>"
      ]
     },
     "metadata": {},
     "output_type": "display_data"
    }
   ],
   "source": [
    "df.groupby(['star_wars_vs_star_trek','dogs_vs_cats']).size().plot()"
   ]
  },
  {
   "cell_type": "code",
   "execution_count": 33,
   "metadata": {
    "collapsed": false
   },
   "outputs": [
    {
     "data": {
      "text/plain": [
       "star_wars_vs_star_trek  dogs_vs_cats          \n",
       "Star Trek               Cats                       3052\n",
       "                        Dogs                       3636\n",
       "                        Other (please specify)     1186\n",
       "Star Wars               Cats                       7323\n",
       "                        Dogs                      11820\n",
       "                        Other (please specify)     2742\n",
       "Star Wars; Star Trek    Cats                       1354\n",
       "                        Dogs                       1664\n",
       "                        Other (please specify)      724\n",
       "dtype: int64"
      ]
     },
     "execution_count": 33,
     "metadata": {},
     "output_type": "execute_result"
    }
   ],
   "source": [
    "df.groupby(['star_wars_vs_star_trek','dogs_vs_cats']).size()"
   ]
  },
  {
   "cell_type": "code",
   "execution_count": 34,
   "metadata": {
    "collapsed": true
   },
   "outputs": [],
   "source": [
    "import matplotlib as mpl\n",
    "import matplotlib.pyplot as plt"
   ]
  },
  {
   "cell_type": "code",
   "execution_count": 35,
   "metadata": {
    "collapsed": true
   },
   "outputs": [],
   "source": [
    "import seaborn as sns\n"
   ]
  },
  {
   "cell_type": "code",
   "execution_count": 41,
   "metadata": {
    "collapsed": false
   },
   "outputs": [
    {
     "data": {
      "text/plain": [
       "<matplotlib.axes._subplots.AxesSubplot at 0x1145d0160>"
      ]
     },
     "execution_count": 41,
     "metadata": {},
     "output_type": "execute_result"
    },
    {
     "data": {
      "image/png": "[encoded data removed]",
      "text/plain": [
       "<matplotlib.figure.Figure at 0x1190aac18>"
      ]
     },
     "metadata": {},
     "output_type": "display_data"
    }
   ],
   "source": [
    "sns.barplot(x='star_wars_vs_star_trek', y=\"age_midpoint\", hue=\"dogs_vs_cats\", data=df)"
   ]
  },
  {
   "cell_type": "code",
   "execution_count": 70,
   "metadata": {
    "collapsed": false
   },
   "outputs": [
    {
     "data": {
      "text/plain": [
       "<matplotlib.axes._subplots.AxesSubplot at 0x11bd04198>"
      ]
     },
     "execution_count": 70,
     "metadata": {},
     "output_type": "execute_result"
    },
    {
     "data": {
      "image/png": "[encoded data removed]",
      "text/plain": [
       "<matplotlib.figure.Figure at 0x11bd04c50>"
      ]
     },
     "metadata": {},
     "output_type": "display_data"
    }
   ],
   "source": [
    "sns.pointplot(x='age_category',y='salary_midpoint', hue='gender', data=df[df['gender'].isin(['Male','Female'])],  markers=[\"^\", \"o\"], linestyles=[\"-\", \"--\"])"
   ]
  },
  {
   "cell_type": "code",
   "execution_count": 73,
   "metadata": {
    "collapsed": false
   },
   "outputs": [
    {
     "data": {
      "image/png": "[encoded data removed]",
      "text/plain": [
       "<matplotlib.figure.Figure at 0x1228c3470>"
      ]
     },
     "metadata": {},
     "output_type": "display_data"
    }
   ],
   "source": [
    "sns.violinplot(x='age_category', y='salary_midpoint', hue='gender', data=df[df['gender'].isin(['Male','Female'])]);"
   ]
  },
  {
   "cell_type": "code",
   "execution_count": null,
   "metadata": {
    "collapsed": false
   },
   "outputs": [
    {
     "ename": "KeyboardInterrupt",
     "evalue": "",
     "output_type": "error",
     "traceback": [
      "\u001b[0;31m---------------------------------------------------------------------------\u001b[0m",
      "\u001b[0;31mKeyboardInterrupt\u001b[0m                         Traceback (most recent call last)",
      "\u001b[0;32m<ipython-input-78-220a8dd16fd3>\u001b[0m in \u001b[0;36m<module>\u001b[0;34m()\u001b[0m\n\u001b[1;32m      1\u001b[0m sns.factorplot(x=\"age_category\", y=\"salary_midpoint\",\n\u001b[0;32m----> 2\u001b[0;31m                col=\"gender\", data=df[df['gender'].isin(['Male','Female'])], kind=\"swarm\");\n\u001b[0m",
      "\u001b[0;32m/Users/davidwilson/anaconda/lib/python3.5/site-packages/seaborn/categorical.py\u001b[0m in \u001b[0;36mfactorplot\u001b[0;34m(x, y, hue, data, row, col, col_wrap, estimator, ci, n_boot, units, order, hue_order, row_order, col_order, kind, size, aspect, orient, color, palette, legend, legend_out, sharex, sharey, margin_titles, facet_kws, **kwargs)\u001b[0m\n\u001b[1;32m   3365\u001b[0m \u001b[0;34m\u001b[0m\u001b[0m\n\u001b[1;32m   3366\u001b[0m     \u001b[0;31m# Draw the plot onto the facets\u001b[0m\u001b[0;34m\u001b[0m\u001b[0;34m\u001b[0m\u001b[0m\n\u001b[0;32m-> 3367\u001b[0;31m     \u001b[0mg\u001b[0m\u001b[0;34m.\u001b[0m\u001b[0mmap_dataframe\u001b[0m\u001b[0;34m(\u001b[0m\u001b[0mplot_func\u001b[0m\u001b[0;34m,\u001b[0m \u001b[0mx\u001b[0m\u001b[0;34m,\u001b[0m \u001b[0my\u001b[0m\u001b[0;34m,\u001b[0m \u001b[0mhue\u001b[0m\u001b[0;34m,\u001b[0m \u001b[0;34m**\u001b[0m\u001b[0mplot_kws\u001b[0m\u001b[0;34m)\u001b[0m\u001b[0;34m\u001b[0m\u001b[0m\n\u001b[0m\u001b[1;32m   3368\u001b[0m \u001b[0;34m\u001b[0m\u001b[0m\n\u001b[1;32m   3369\u001b[0m     \u001b[0;31m# Special case axis labels for a count type plot\u001b[0m\u001b[0;34m\u001b[0m\u001b[0;34m\u001b[0m\u001b[0m\n",
      "\u001b[0;32m/Users/davidwilson/anaconda/lib/python3.5/site-packages/seaborn/axisgrid.py\u001b[0m in \u001b[0;36mmap_dataframe\u001b[0;34m(self, func, *args, **kwargs)\u001b[0m\n\u001b[1;32m    791\u001b[0m \u001b[0;34m\u001b[0m\u001b[0m\n\u001b[1;32m    792\u001b[0m             \u001b[0;31m# Draw the plot\u001b[0m\u001b[0;34m\u001b[0m\u001b[0;34m\u001b[0m\u001b[0m\n\u001b[0;32m--> 793\u001b[0;31m             \u001b[0mself\u001b[0m\u001b[0;34m.\u001b[0m\u001b[0m_facet_plot\u001b[0m\u001b[0;34m(\u001b[0m\u001b[0mfunc\u001b[0m\u001b[0;34m,\u001b[0m \u001b[0max\u001b[0m\u001b[0;34m,\u001b[0m \u001b[0margs\u001b[0m\u001b[0;34m,\u001b[0m \u001b[0mkwargs\u001b[0m\u001b[0;34m)\u001b[0m\u001b[0;34m\u001b[0m\u001b[0m\n\u001b[0m\u001b[1;32m    794\u001b[0m \u001b[0;34m\u001b[0m\u001b[0m\n\u001b[1;32m    795\u001b[0m         \u001b[0;31m# Finalize the annotations and layout\u001b[0m\u001b[0;34m\u001b[0m\u001b[0;34m\u001b[0m\u001b[0m\n",
      "\u001b[0;32m/Users/davidwilson/anaconda/lib/python3.5/site-packages/seaborn/axisgrid.py\u001b[0m in \u001b[0;36m_facet_plot\u001b[0;34m(self, func, ax, plot_args, plot_kwargs)\u001b[0m\n\u001b[1;32m    809\u001b[0m \u001b[0;34m\u001b[0m\u001b[0m\n\u001b[1;32m    810\u001b[0m         \u001b[0;31m# Draw the plot\u001b[0m\u001b[0;34m\u001b[0m\u001b[0;34m\u001b[0m\u001b[0m\n\u001b[0;32m--> 811\u001b[0;31m         \u001b[0mfunc\u001b[0m\u001b[0;34m(\u001b[0m\u001b[0;34m*\u001b[0m\u001b[0mplot_args\u001b[0m\u001b[0;34m,\u001b[0m \u001b[0;34m**\u001b[0m\u001b[0mplot_kwargs\u001b[0m\u001b[0;34m)\u001b[0m\u001b[0;34m\u001b[0m\u001b[0m\n\u001b[0m\u001b[1;32m    812\u001b[0m \u001b[0;34m\u001b[0m\u001b[0m\n\u001b[1;32m    813\u001b[0m         \u001b[0;31m# Sort out the supporting information\u001b[0m\u001b[0;34m\u001b[0m\u001b[0;34m\u001b[0m\u001b[0m\n",
      "\u001b[0;32m/Users/davidwilson/anaconda/lib/python3.5/site-packages/seaborn/categorical.py\u001b[0m in \u001b[0;36mswarmplot\u001b[0;34m(x, y, hue, data, order, hue_order, split, orient, color, palette, size, edgecolor, linewidth, ax, **kwargs)\u001b[0m\n\u001b[1;32m   2691\u001b[0m                        linewidth=linewidth))\n\u001b[1;32m   2692\u001b[0m \u001b[0;34m\u001b[0m\u001b[0m\n\u001b[0;32m-> 2693\u001b[0;31m     \u001b[0mplotter\u001b[0m\u001b[0;34m.\u001b[0m\u001b[0mplot\u001b[0m\u001b[0;34m(\u001b[0m\u001b[0max\u001b[0m\u001b[0;34m,\u001b[0m \u001b[0mkwargs\u001b[0m\u001b[0;34m)\u001b[0m\u001b[0;34m\u001b[0m\u001b[0m\n\u001b[0m\u001b[1;32m   2694\u001b[0m     \u001b[0;32mreturn\u001b[0m \u001b[0max\u001b[0m\u001b[0;34m\u001b[0m\u001b[0m\n\u001b[1;32m   2695\u001b[0m \u001b[0;34m\u001b[0m\u001b[0m\n",
      "\u001b[0;32m/Users/davidwilson/anaconda/lib/python3.5/site-packages/seaborn/categorical.py\u001b[0m in \u001b[0;36mplot\u001b[0;34m(self, ax, kws)\u001b[0m\n\u001b[1;32m   1391\u001b[0m     \u001b[0;32mdef\u001b[0m \u001b[0mplot\u001b[0m\u001b[0;34m(\u001b[0m\u001b[0mself\u001b[0m\u001b[0;34m,\u001b[0m \u001b[0max\u001b[0m\u001b[0;34m,\u001b[0m \u001b[0mkws\u001b[0m\u001b[0;34m)\u001b[0m\u001b[0;34m:\u001b[0m\u001b[0;34m\u001b[0m\u001b[0m\n\u001b[1;32m   1392\u001b[0m         \u001b[0;34m\"\"\"Make the full plot.\"\"\"\u001b[0m\u001b[0;34m\u001b[0m\u001b[0m\n\u001b[0;32m-> 1393\u001b[0;31m         \u001b[0mself\u001b[0m\u001b[0;34m.\u001b[0m\u001b[0mdraw_swarmplot\u001b[0m\u001b[0;34m(\u001b[0m\u001b[0max\u001b[0m\u001b[0;34m,\u001b[0m \u001b[0mkws\u001b[0m\u001b[0;34m)\u001b[0m\u001b[0;34m\u001b[0m\u001b[0m\n\u001b[0m\u001b[1;32m   1394\u001b[0m         \u001b[0mself\u001b[0m\u001b[0;34m.\u001b[0m\u001b[0madd_legend_data\u001b[0m\u001b[0;34m(\u001b[0m\u001b[0max\u001b[0m\u001b[0;34m)\u001b[0m\u001b[0;34m\u001b[0m\u001b[0m\n\u001b[1;32m   1395\u001b[0m         \u001b[0mself\u001b[0m\u001b[0;34m.\u001b[0m\u001b[0mannotate_axes\u001b[0m\u001b[0;34m(\u001b[0m\u001b[0max\u001b[0m\u001b[0;34m)\u001b[0m\u001b[0;34m\u001b[0m\u001b[0m\n",
      "\u001b[0;32m/Users/davidwilson/anaconda/lib/python3.5/site-packages/seaborn/categorical.py\u001b[0m in \u001b[0;36mdraw_swarmplot\u001b[0;34m(self, ax, kws)\u001b[0m\n\u001b[1;32m   1387\u001b[0m         \u001b[0;32mfor\u001b[0m \u001b[0mcenter\u001b[0m\u001b[0;34m,\u001b[0m \u001b[0mswarm\u001b[0m \u001b[0;32min\u001b[0m \u001b[0mzip\u001b[0m\u001b[0;34m(\u001b[0m\u001b[0mcenters\u001b[0m\u001b[0;34m,\u001b[0m \u001b[0mswarms\u001b[0m\u001b[0;34m)\u001b[0m\u001b[0;34m:\u001b[0m\u001b[0;34m\u001b[0m\u001b[0m\n\u001b[1;32m   1388\u001b[0m             \u001b[0;32mif\u001b[0m \u001b[0mswarm\u001b[0m\u001b[0;34m.\u001b[0m\u001b[0mget_offsets\u001b[0m\u001b[0;34m(\u001b[0m\u001b[0;34m)\u001b[0m\u001b[0;34m.\u001b[0m\u001b[0msize\u001b[0m\u001b[0;34m:\u001b[0m\u001b[0;34m\u001b[0m\u001b[0m\n\u001b[0;32m-> 1389\u001b[0;31m                 \u001b[0mself\u001b[0m\u001b[0;34m.\u001b[0m\u001b[0mswarm_points\u001b[0m\u001b[0;34m(\u001b[0m\u001b[0max\u001b[0m\u001b[0;34m,\u001b[0m \u001b[0mswarm\u001b[0m\u001b[0;34m,\u001b[0m \u001b[0mcenter\u001b[0m\u001b[0;34m,\u001b[0m \u001b[0mwidth\u001b[0m\u001b[0;34m,\u001b[0m \u001b[0ms\u001b[0m\u001b[0;34m,\u001b[0m \u001b[0;34m**\u001b[0m\u001b[0mkws\u001b[0m\u001b[0;34m)\u001b[0m\u001b[0;34m\u001b[0m\u001b[0m\n\u001b[0m\u001b[1;32m   1390\u001b[0m \u001b[0;34m\u001b[0m\u001b[0m\n\u001b[1;32m   1391\u001b[0m     \u001b[0;32mdef\u001b[0m \u001b[0mplot\u001b[0m\u001b[0;34m(\u001b[0m\u001b[0mself\u001b[0m\u001b[0;34m,\u001b[0m \u001b[0max\u001b[0m\u001b[0;34m,\u001b[0m \u001b[0mkws\u001b[0m\u001b[0;34m)\u001b[0m\u001b[0;34m:\u001b[0m\u001b[0;34m\u001b[0m\u001b[0m\n",
      "\u001b[0;32m/Users/davidwilson/anaconda/lib/python3.5/site-packages/seaborn/categorical.py\u001b[0m in \u001b[0;36mswarm_points\u001b[0;34m(self, ax, points, center, width, s, **kws)\u001b[0m\n\u001b[1;32m   1296\u001b[0m \u001b[0;34m\u001b[0m\u001b[0m\n\u001b[1;32m   1297\u001b[0m         \u001b[0;31m# Do the beeswarm in point coordinates\u001b[0m\u001b[0;34m\u001b[0m\u001b[0;34m\u001b[0m\u001b[0m\n\u001b[0;32m-> 1298\u001b[0;31m         \u001b[0mnew_xy\u001b[0m \u001b[0;34m=\u001b[0m \u001b[0mself\u001b[0m\u001b[0;34m.\u001b[0m\u001b[0mbeeswarm\u001b[0m\u001b[0;34m(\u001b[0m\u001b[0morig_xy\u001b[0m\u001b[0;34m,\u001b[0m \u001b[0md\u001b[0m\u001b[0;34m)\u001b[0m\u001b[0;34m\u001b[0m\u001b[0m\n\u001b[0m\u001b[1;32m   1299\u001b[0m \u001b[0;34m\u001b[0m\u001b[0m\n\u001b[1;32m   1300\u001b[0m         \u001b[0;31m# Transform the point coordinates back to data coordinates\u001b[0m\u001b[0;34m\u001b[0m\u001b[0;34m\u001b[0m\u001b[0m\n",
      "\u001b[0;32m/Users/davidwilson/anaconda/lib/python3.5/site-packages/seaborn/categorical.py\u001b[0m in \u001b[0;36mbeeswarm\u001b[0;34m(self, orig_xy, d)\u001b[0m\n\u001b[1;32m   1256\u001b[0m             \u001b[0;31m# Remove the positions that overlap with any of the\u001b[0m\u001b[0;34m\u001b[0m\u001b[0;34m\u001b[0m\u001b[0m\n\u001b[1;32m   1257\u001b[0m             \u001b[0;31m# other neighbors\u001b[0m\u001b[0;34m\u001b[0m\u001b[0;34m\u001b[0m\u001b[0m\n\u001b[0;32m-> 1258\u001b[0;31m             \u001b[0mcandidates\u001b[0m \u001b[0;34m=\u001b[0m \u001b[0mself\u001b[0m\u001b[0;34m.\u001b[0m\u001b[0mprune_candidates\u001b[0m\u001b[0;34m(\u001b[0m\u001b[0mcandidates\u001b[0m\u001b[0;34m,\u001b[0m \u001b[0mneighbors\u001b[0m\u001b[0;34m,\u001b[0m \u001b[0md\u001b[0m\u001b[0;34m)\u001b[0m\u001b[0;34m\u001b[0m\u001b[0m\n\u001b[0m\u001b[1;32m   1259\u001b[0m \u001b[0;34m\u001b[0m\u001b[0m\n\u001b[1;32m   1260\u001b[0m             \u001b[0;31m# Find the most central of the remaining positions\u001b[0m\u001b[0;34m\u001b[0m\u001b[0;34m\u001b[0m\u001b[0m\n",
      "\u001b[0;32m/Users/davidwilson/anaconda/lib/python3.5/site-packages/seaborn/categorical.py\u001b[0m in \u001b[0;36mprune_candidates\u001b[0;34m(self, candidates, neighbors, d)\u001b[0m\n\u001b[1;32m   1228\u001b[0m             \u001b[0mgood_candidate\u001b[0m \u001b[0;34m=\u001b[0m \u001b[0;32mTrue\u001b[0m\u001b[0;34m\u001b[0m\u001b[0m\n\u001b[1;32m   1229\u001b[0m             \u001b[0;32mfor\u001b[0m \u001b[0mxy_j\u001b[0m \u001b[0;32min\u001b[0m \u001b[0mneighbors\u001b[0m\u001b[0;34m:\u001b[0m\u001b[0;34m\u001b[0m\u001b[0m\n\u001b[0;32m-> 1230\u001b[0;31m                 \u001b[0;32mif\u001b[0m \u001b[0mself\u001b[0m\u001b[0;34m.\u001b[0m\u001b[0moverlap\u001b[0m\u001b[0;34m(\u001b[0m\u001b[0mxy_i\u001b[0m\u001b[0;34m,\u001b[0m \u001b[0mxy_j\u001b[0m\u001b[0;34m,\u001b[0m \u001b[0md\u001b[0m\u001b[0;34m)\u001b[0m\u001b[0;34m:\u001b[0m\u001b[0;34m\u001b[0m\u001b[0m\n\u001b[0m\u001b[1;32m   1231\u001b[0m                     \u001b[0mgood_candidate\u001b[0m \u001b[0;34m=\u001b[0m \u001b[0;32mFalse\u001b[0m\u001b[0;34m\u001b[0m\u001b[0m\n\u001b[1;32m   1232\u001b[0m             \u001b[0;32mif\u001b[0m \u001b[0mgood_candidate\u001b[0m\u001b[0;34m:\u001b[0m\u001b[0;34m\u001b[0m\u001b[0m\n",
      "\u001b[0;32m/Users/davidwilson/anaconda/lib/python3.5/site-packages/seaborn/categorical.py\u001b[0m in \u001b[0;36moverlap\u001b[0;34m(self, xy_i, xy_j, d)\u001b[0m\n\u001b[1;32m   1187\u001b[0m         \u001b[0;34m\"\"\"Return True if two circles with the same diameter will overlap.\"\"\"\u001b[0m\u001b[0;34m\u001b[0m\u001b[0m\n\u001b[1;32m   1188\u001b[0m         \u001b[0mx_i\u001b[0m\u001b[0;34m,\u001b[0m \u001b[0my_i\u001b[0m \u001b[0;34m=\u001b[0m \u001b[0mxy_i\u001b[0m\u001b[0;34m\u001b[0m\u001b[0m\n\u001b[0;32m-> 1189\u001b[0;31m         \u001b[0mx_j\u001b[0m\u001b[0;34m,\u001b[0m \u001b[0my_j\u001b[0m \u001b[0;34m=\u001b[0m \u001b[0mxy_j\u001b[0m\u001b[0;34m\u001b[0m\u001b[0m\n\u001b[0m\u001b[1;32m   1190\u001b[0m         \u001b[0;32mreturn\u001b[0m \u001b[0;34m(\u001b[0m\u001b[0;34m(\u001b[0m\u001b[0mx_i\u001b[0m \u001b[0;34m-\u001b[0m \u001b[0mx_j\u001b[0m\u001b[0;34m)\u001b[0m \u001b[0;34m**\u001b[0m \u001b[0;36m2\u001b[0m \u001b[0;34m+\u001b[0m \u001b[0;34m(\u001b[0m\u001b[0my_i\u001b[0m \u001b[0;34m-\u001b[0m \u001b[0my_j\u001b[0m\u001b[0;34m)\u001b[0m \u001b[0;34m**\u001b[0m \u001b[0;36m2\u001b[0m\u001b[0;34m)\u001b[0m \u001b[0;34m<\u001b[0m \u001b[0;34m(\u001b[0m\u001b[0md\u001b[0m \u001b[0;34m**\u001b[0m \u001b[0;36m2\u001b[0m\u001b[0;34m)\u001b[0m\u001b[0;34m\u001b[0m\u001b[0m\n\u001b[1;32m   1191\u001b[0m \u001b[0;34m\u001b[0m\u001b[0m\n",
      "\u001b[0;31mKeyboardInterrupt\u001b[0m: "
     ]
    }
   ],
   "source": [
    "sns.factorplot(x=\"age_category\", y=\"salary_midpoint\",\n",
    "               col=\"gender\", data=df[df['gender'].isin(['Male','Female'])], kind=\"swarm\");"
   ]
  },
  {
   "cell_type": "code",
   "execution_count": null,
   "metadata": {
    "collapsed": true
   },
   "outputs": [],
   "source": []
  }
 ],
 "metadata": {
  "kernelspec": {
   "display_name": "Python [Root]",
   "language": "python",
   "name": "Python [Root]"
  },
  "language_info": {
   "codemirror_mode": {
    "name": "ipython",
    "version": 3
   },
   "file_extension": ".py",
   "mimetype": "text/x-python",
   "name": "python",
   "nbconvert_exporter": "python",
   "pygments_lexer": "ipython3",
   "version": "3.5.2"
  }
 },
 "nbformat": 4,
 "nbformat_minor": 0
}
